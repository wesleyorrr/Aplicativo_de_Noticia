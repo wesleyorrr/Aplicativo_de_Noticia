{
  "nbformat": 4,
  "nbformat_minor": 0,
  "metadata": {
    "colab": {
      "provenance": [],
      "authorship_tag": "ABX9TyNjgE9rnW2TGofT0jK33b1L",
      "include_colab_link": true
    },
    "kernelspec": {
      "name": "python3",
      "display_name": "Python 3"
    },
    "language_info": {
      "name": "python"
    }
  },
  "cells": [
    {
      "cell_type": "markdown",
      "metadata": {
        "id": "view-in-github",
        "colab_type": "text"
      },
      "source": [
        "<a href=\"https://colab.research.google.com/github/wesleyorrr/Aplicativo_de_Noticia/blob/main/Untitled0.ipynb\" target=\"_parent\"><img src=\"https://colab.research.google.com/assets/colab-badge.svg\" alt=\"Open In Colab\"/></a>"
      ]
    },
    {
      "cell_type": "code",
      "execution_count": 1,
      "metadata": {
        "colab": {
          "base_uri": "https://localhost:8080/"
        },
        "id": "xvJsCwiKqzfN",
        "outputId": "53e1ec16-4f3a-4ffb-e0f2-f1077f045e72"
      },
      "outputs": [
        {
          "output_type": "stream",
          "name": "stdout",
          "text": [
            "Ola mundo\n"
          ]
        }
      ],
      "source": [
        "print(\"Ola mundo\")"
      ]
    },
    {
      "cell_type": "markdown",
      "source": [
        "\n",
        "\n",
        "```\n",
        "# Isto está formatado como código\n",
        "```\n",
        "\n",
        "# Nova seção"
      ],
      "metadata": {
        "id": "NwgCg4jmFpeC"
      }
    },
    {
      "cell_type": "code",
      "source": [],
      "metadata": {
        "id": "o2v_AyTIFrS5"
      },
      "execution_count": null,
      "outputs": []
    }
  ]
}